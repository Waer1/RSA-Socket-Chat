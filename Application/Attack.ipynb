{
 "cells": [
  {
   "cell_type": "code",
   "execution_count": 15,
   "metadata": {},
   "outputs": [],
   "source": [
    "import random\n",
    "import math\n",
    "from typing import List"
   ]
  },
  {
   "cell_type": "code",
   "execution_count": 16,
   "metadata": {},
   "outputs": [],
   "source": [
    "def convert_to_num(char: str) -> int:\n",
    "    if char.isdigit():\n",
    "        return int(char)\n",
    "    elif char.isalpha():\n",
    "        return ord(char.lower()) - 87\n",
    "    else:\n",
    "        return 36\n",
    "\n",
    "def convert_to_char(num: int) -> str:\n",
    "    if 0 <= num <= 9:\n",
    "        return str(num)\n",
    "    elif 10 <= num <= 35:\n",
    "        return chr(num + 87)\n",
    "    else:\n",
    "        return ' '\n",
    "\n",
    "def encode_message(msg: str) -> int:\n",
    "    # Convert any extra characters to spaces\n",
    "    msg = ''.join([c if c.isalnum() else ' ' for c in msg])\n",
    "\n",
    "    # Pad the message with spaces to make sure it's divisible by 5\n",
    "    msg += ' ' * (5 - len(msg) % 5) * (len(msg) % 5 != 0)\n",
    "\n",
    "    # Split the message into groups of 5 characters\n",
    "    groups = [msg[i:i+5] for i in range(0, len(msg), 5)]\n",
    "\n",
    "    # Convert each group into a number using the specified formula\n",
    "    nums = []\n",
    "    for group in groups:\n",
    "        num = 0\n",
    "        for i, c in enumerate(group):\n",
    "            num += convert_to_num(c) * (37 ** (4-i))\n",
    "        nums.append(num)\n",
    "    # Combine the numbers into a single integer by concatenating digits\n",
    "    result = int(''.join([str(n) for n in nums]))\n",
    "    return result\n",
    "\n",
    "def decode_message(num: int) -> str:\n",
    "    num_str = str(num).zfill((len(str(num)) + 7) // 8 * 8)\n",
    "\n",
    "    # split into 8-character chunks and convert back to integers\n",
    "    groups = [int(num_str[i:i+8]) for i in range(0, len(num_str), 8)]\n",
    "\n",
    "    # Convert each group back into a string of 5 characters using mod and div\n",
    "    msg = ''\n",
    "    for group in groups:\n",
    "        group_str = ''\n",
    "        for i in range(5):\n",
    "            c = convert_to_char(group // (37 ** (4-i))) \n",
    "            group_str += c\n",
    "            group %= 37 ** (4-i)\n",
    "        msg += group_str.rstrip()\n",
    "\n",
    "    return msg"
   ]
  },
  {
   "cell_type": "code",
   "execution_count": 17,
   "metadata": {},
   "outputs": [],
   "source": [
    "def extended_euclidean_algorithm(a: int, b: int) -> tuple:\n",
    "    if b == 0:\n",
    "        return (1, 0, a)\n",
    "    else:\n",
    "        x, y, gcd = extended_euclidean_algorithm(b, a % b)\n",
    "        return (y, x - (a // b) * y, gcd)"
   ]
  },
  {
   "cell_type": "code",
   "execution_count": 18,
   "metadata": {},
   "outputs": [],
   "source": [
    "def generate_keypair(p: int, q: int) -> tuple:\n",
    "    n = p * q\n",
    "    phi = (p - 1) * (q - 1)\n",
    "    \n",
    "    # Choose e such that e and phi(n) are coprime.\n",
    "    # In practice, e is usually a small prime number, such as 65537.\n",
    "    e = 7\n",
    "    while math.gcd(e, phi) != 1:\n",
    "        e = random.randint(2, phi - 1)\n",
    "    \n",
    "    # Use the extended Euclidean algorithm to compute the private key.\n",
    "    # d is the multiplicative inverse of e modulo phi(n).\n",
    "    # That is, d * e = 1 (mod phi(n)).\n",
    "    x, y, gcd = extended_euclidean_algorithm(e, phi)\n",
    "    d = x % phi\n",
    "    \n",
    "    # Return the public and private keys as a tuple.\n",
    "    public_key = (e, n)\n",
    "    private_key = (d, n)\n",
    "    return (public_key, private_key)"
   ]
  },
  {
   "cell_type": "code",
   "execution_count": 19,
   "metadata": {},
   "outputs": [],
   "source": [
    "def encrypt(public_key: tuple, message: int) -> int:\n",
    "    e, n = public_key\n",
    "    return pow(message, e, n)\n",
    "\n",
    "def decrypt(private_key: tuple, encrypted_message: int) -> int:\n",
    "    d, n = private_key\n",
    "    return pow(encrypted_message, d, n)"
   ]
  },
  {
   "cell_type": "code",
   "execution_count": 20,
   "metadata": {},
   "outputs": [],
   "source": [
    "import sympy\n",
    "def generate_prime(bit_length):\n",
    "    while True:\n",
    "        p = sympy.randprime(2**(bit_length-1), 2**bit_length - 1)\n",
    "        return p\n",
    "\n",
    "def generate_two_distinct_primes(bit_length = 1024):\n",
    "    while True:\n",
    "        p = generate_prime(bit_length)\n",
    "        q = generate_prime(bit_length)\n",
    "        if p != q:\n",
    "            return p, q\n",
    "        "
   ]
  },
  {
   "cell_type": "code",
   "execution_count": 21,
   "metadata": {},
   "outputs": [],
   "source": [
    "def Encrypt(message: str, public_key: tuple) -> int:\n",
    "    encoded_message = encode_message(message)\n",
    "    encrypted_message = encrypt(public_key, encoded_message)\n",
    "    return encrypted_message\n",
    "\n",
    "def Decrypt(encrypted_message: int, private_key: tuple) -> str:\n",
    "    decoded_message = decrypt(private_key, encrypted_message)\n",
    "    message = decode_message(decoded_message)\n",
    "    return message"
   ]
  },
  {
   "cell_type": "code",
   "execution_count": 22,
   "metadata": {},
   "outputs": [
    {
     "name": "stdout",
     "output_type": "stream",
     "text": [
      "11957255526965420405059718157438287697743243353034521193756709052531279458556276011961548451046557064582819770232001323905419571216927078301632221760935085274007498846751981606595921097966462801611107079552577653177255758724923925400197189139695575439082827574366863633834579241120582648875197111105466001417627158856182522384441492768368237579795311753040005496208773469568685653447080973420932097225046037102218742448452293913554764671670026955771328125882234354691722623772691633889384643939210698513691229716114081325051774889347269038222019397075742410640013617496554335515002876447049191040313203974203803713279\n",
      "Original message: hi\n",
      "The encoded message is 32823143\n",
      "Encrypted message: 41045084480298214856771364629621539625048913192864407\n",
      "Decrypted message: 32823143\n",
      "The decoded message is 'hi'\n"
     ]
    }
   ],
   "source": [
    "p , q = generate_two_distinct_primes()\n",
    "print(p*q)\n",
    "public_key, private_key = generate_keypair(p, q)\n",
    "\n",
    "msg = \"hi\"\n",
    "print(\"Original message:\", msg)\n",
    "encoded = encode_message(msg)\n",
    "\n",
    "print(f\"The encoded message is {encoded}\")\n",
    "\n",
    "encrypted_message = encrypt(public_key, encoded)\n",
    "print(\"Encrypted message:\", encrypted_message)\n",
    "\n",
    "decrypted_message = decrypt(private_key, encrypted_message)\n",
    "print(\"Decrypted message:\", decrypted_message)\n",
    "decoded = decode_message(decrypted_message)\n",
    "print(f\"The decoded message is '{decoded}'\")"
   ]
  },
  {
   "cell_type": "code",
   "execution_count": 23,
   "metadata": {},
   "outputs": [],
   "source": [
    "import numpy as np\n",
    "import time\n",
    "import matplotlib.pyplot as plt\n",
    "\n",
    "def factorize(n):\n",
    "   if (n % 2) == 0:\n",
    "      return [2] + factorize(n//2)\n",
    "   \n",
    "   integer = 3\n",
    "   while integer <= (n**0.5):     \n",
    "      if n % integer == 0:      \n",
    "         return [integer] + factorize(n // integer)\n",
    "      else:\n",
    "         integer += 2                        # Since all primes are odd.\n",
    "   return [n]\n",
    "\n",
    "\n",
    "def mathematical_attack(PU):\n",
    "   factors = factorize(PU)\n",
    "   return \"NOT RSA\" if len(factors) > 2  else factors\n",
    "\n",
    "# n_sizes = np.arange(14, 32)\n",
    "# times = []\n",
    "# for size in n_sizes:\n",
    "#     p,q = generate_two_distinct_primes(size)\n",
    "#     start = time.time()\n",
    "#     mathematical_attack(p*q)  \n",
    "#     end = time.time()\n",
    "#     times.append(end-start)\n",
    "\n",
    "# plt.plot(n_sizes, times, 'bo-')\n",
    "# plt.xlabel('RSA key size (bits)')\n",
    "# plt.ylabel('Execution time (seconds)')\n",
    "# plt.title('RSA key generation performance')\n",
    "# plt.show()"
   ]
  },
  {
   "cell_type": "code",
   "execution_count": 45,
   "metadata": {},
   "outputs": [
    {
     "name": "stdout",
     "output_type": "stream",
     "text": [
      "message : hello\n",
      "cipher : 127294486433\n",
      "attacked : hello\n"
     ]
    }
   ],
   "source": [
    "def generate_keypair_given_q(p: int, q: int, e: int) -> tuple:\n",
    "    n = p * q\n",
    "    phi = (p - 1) * (q - 1)\n",
    "    \n",
    "    # Choose e such that e and phi(n) are coprime.\n",
    "    # In practice, e is usually a small prime number, such as 65537.\n",
    "    e = 7\n",
    "    while math.gcd(e, phi) != 1:\n",
    "        e = random.randint(2, phi - 1)\n",
    "    \n",
    "    # Use the extended Euclidean algorithm to compute the private key.\n",
    "    # d is the multiplicative inverse of e modulo phi(n).\n",
    "    # That is, d * e = 1 (mod phi(n)).\n",
    "    x, y, gcd = extended_euclidean_algorithm(e, phi)\n",
    "    d = x % phi\n",
    "    \n",
    "    # Return the public and private keys as a tuple.\n",
    "    public_key = (e, n)\n",
    "    private_key = (d, n)\n",
    "    return (public_key, private_key)\n",
    "\n",
    "\n",
    "message = \"hello\"\n",
    "p0,q0 = generate_two_distinct_primes(20)\n",
    "public_key_original , private_key_original = generate_keypair(p0,q0)\n",
    "# print(public_key_original , private_key_original)\n",
    "encrypted = Encrypt(message, public_key_original)\n",
    "print(\"message :\" , message )\n",
    "print(\"cipher :\" , encrypted )\n",
    "\n",
    "e , n = public_key_original\n",
    "p , q = mathematical_attack(n)\n",
    "public_key , private_key = generate_keypair_given_q(p,q,e)\n",
    "hopecracked = Decrypt(encrypted,private_key)\n",
    "print(\"attacked :\" , hopecracked )"
   ]
  },
  {
   "cell_type": "code",
   "execution_count": null,
   "metadata": {},
   "outputs": [],
   "source": []
  }
 ],
 "metadata": {
  "kernelspec": {
   "display_name": "Python 3",
   "language": "python",
   "name": "python3"
  },
  "language_info": {
   "codemirror_mode": {
    "name": "ipython",
    "version": 3
   },
   "file_extension": ".py",
   "mimetype": "text/x-python",
   "name": "python",
   "nbconvert_exporter": "python",
   "pygments_lexer": "ipython3",
   "version": "3.10.11"
  },
  "orig_nbformat": 4
 },
 "nbformat": 4,
 "nbformat_minor": 2
}
