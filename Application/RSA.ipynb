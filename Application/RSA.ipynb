{
 "cells": [
  {
   "cell_type": "code",
   "execution_count": 65,
   "metadata": {},
   "outputs": [],
   "source": [
    "import random\n",
    "import math\n",
    "from typing import List"
   ]
  },
  {
   "cell_type": "code",
   "execution_count": 66,
   "metadata": {},
   "outputs": [
    {
     "name": "stdout",
     "output_type": "stream",
     "text": [
      "The encoded message is 325994296806434766343108\n",
      "decodeing groups:  [32599429, 68064347, 66343108]\n",
      "The decoded message is 'hello brazzer'\n"
     ]
    }
   ],
   "source": [
    "def convert_to_num(char: str) -> int:\n",
    "    if char.isdigit():\n",
    "        return int(char)\n",
    "    elif char.isalpha():\n",
    "        return ord(char.lower()) - 87\n",
    "    else:\n",
    "        return 36\n",
    "\n",
    "def convert_to_char(num: int) -> str:\n",
    "    if 0 <= num <= 9:\n",
    "        return str(num)\n",
    "    elif 10 <= num <= 35:\n",
    "        return chr(num + 87)\n",
    "    else:\n",
    "        return ' '\n",
    "\n",
    "def encode_message(msg: str) -> int:\n",
    "    # Convert any extra characters to spaces\n",
    "    msg = ''.join([c if c.isalnum() else ' ' for c in msg])\n",
    "\n",
    "    # Pad the message with spaces to make sure it's divisible by 5\n",
    "    msg += ' ' * (5 - len(msg) % 5) * (len(msg) % 5 != 0)\n",
    "\n",
    "    # Split the message into groups of 5 characters\n",
    "    groups = [msg[i:i+5] for i in range(0, len(msg), 5)]\n",
    "\n",
    "    # Convert each group into a number using the specified formula\n",
    "    nums = []\n",
    "    for group in groups:\n",
    "        num = 0\n",
    "        for i, c in enumerate(group):\n",
    "            num += convert_to_num(c) * (37 ** (4-i))\n",
    "        nums.append(num)\n",
    "    # Combine the numbers into a single integer by concatenating digits\n",
    "    result = int(''.join([str(n) for n in nums]))\n",
    "    return result\n",
    "\n",
    "def decode_message(num: int) -> str:\n",
    "    num_str = str(num).zfill((len(str(num)) + 7) // 8 * 8)\n",
    "\n",
    "    # split into 8-character chunks and convert back to integers\n",
    "    groups = [int(num_str[i:i+8]) for i in range(0, len(num_str), 8)]\n",
    "    print(\"decodeing groups: \", groups)\n",
    "\n",
    "    # Convert each group back into a string of 5 characters using mod and div\n",
    "    msg = ''\n",
    "    for group in groups:\n",
    "        group_str = ''\n",
    "        for i in range(5):\n",
    "            c = convert_to_char(group // (37 ** (4-i))) \n",
    "            group_str += c\n",
    "            group %= 37 ** (4-i)\n",
    "        msg += group_str.rstrip()\n",
    "\n",
    "    return msg\n",
    "\n",
    "\n",
    "msg = \"hello brazzer\"\n",
    "encoded = encode_message(msg)\n",
    "print(f\"The encoded message is {encoded}\")\n",
    "decoded = decode_message(encoded)\n",
    "print(f\"The decoded message is '{decoded}'\")"
   ]
  },
  {
   "cell_type": "code",
   "execution_count": 67,
   "metadata": {},
   "outputs": [],
   "source": [
    "def extended_euclidean_algorithm(a: int, b: int) -> tuple:\n",
    "    if b == 0:\n",
    "        return (1, 0, a)\n",
    "    else:\n",
    "        x, y, gcd = extended_euclidean_algorithm(b, a % b)\n",
    "        return (y, x - (a // b) * y, gcd)"
   ]
  },
  {
   "cell_type": "code",
   "execution_count": 68,
   "metadata": {},
   "outputs": [],
   "source": [
    "def generate_keypair(p: int, q: int) -> tuple:\n",
    "    n = p * q\n",
    "    phi = (p - 1) * (q - 1)\n",
    "    \n",
    "    # Choose e such that e and phi(n) are coprime.\n",
    "    # In practice, e is usually a small prime number, such as 65537.\n",
    "    e = 7\n",
    "    while math.gcd(e, phi) != 1:\n",
    "        e = random.randint(2, phi - 1)\n",
    "    \n",
    "    # Use the extended Euclidean algorithm to compute the private key.\n",
    "    # d is the multiplicative inverse of e modulo phi(n).\n",
    "    # That is, d * e = 1 (mod phi(n)).\n",
    "    x, y, gcd = extended_euclidean_algorithm(e, phi)\n",
    "    d = x % phi\n",
    "    \n",
    "    # Return the public and private keys as a tuple.\n",
    "    public_key = (e, n)\n",
    "    private_key = (d, n)\n",
    "    return (public_key, private_key)"
   ]
  },
  {
   "cell_type": "code",
   "execution_count": 69,
   "metadata": {},
   "outputs": [],
   "source": [
    "def encrypt(public_key: tuple, message: int) -> int:\n",
    "    e, n = public_key\n",
    "    return pow(message, e, n)\n",
    "\n",
    "def decrypt(private_key: tuple, encrypted_message: int) -> int:\n",
    "    d, n = private_key\n",
    "    return pow(encrypted_message, d, n)"
   ]
  },
  {
   "cell_type": "code",
   "execution_count": 72,
   "metadata": {},
   "outputs": [],
   "source": [
    "import sympy\n",
    "def generate_prime(bit_length):\n",
    "    while True:\n",
    "        p = sympy.randprime(2**(bit_length-1), 2**bit_length - 1)\n",
    "        return p\n",
    "\n",
    "def generate_two_distinct_primes():\n",
    "    while True:\n",
    "        p = generate_prime(1024)\n",
    "        q = generate_prime(1024)\n",
    "        if p != q:\n",
    "            return p, q\n",
    "        \n",
    "\n",
    "from RSA import Encrypt, Decrypt, generate_two_distinct_primes\n"
   ]
  },
  {
   "cell_type": "code",
   "execution_count": null,
   "metadata": {},
   "outputs": [],
   "source": [
    "def Encrypt(message: str, public_key: tuple) -> int:\n",
    "    encoded_message = encode_message(message)\n",
    "    encrypted_message = encrypt(public_key, encoded_message)\n",
    "    return encrypted_message\n",
    "\n",
    "def Decrypt(encrypted_message: int, private_key: tuple) -> str:\n",
    "    decoded_message = decrypt(private_key, encrypted_message)\n",
    "    message = decode_message(decoded_message)\n",
    "    return message"
   ]
  },
  {
   "cell_type": "code",
   "execution_count": 75,
   "metadata": {},
   "outputs": [
    {
     "name": "stdout",
     "output_type": "stream",
     "text": [
      "(7, 19143003330043354644770465316696247058498655824814938683228564470576333188381191128757255752517360923914756503164385215951963015740069648475773008128000937855810413371838405222344905602183638090567827144917018234505464179979004262786177249699092563973911834672064299578787666888737649643205148096397977045576301134397944576089504019955317387601723250979917807333468312995367453845899174577620058998885774789757944837611757678326743318636715393986935488817184020324461063045000746040392834268962023907393131286129212068540015305577457438477159922268532115414128985230069896393135170385473865897541683970266620090843841) (16408288568608589695517541700025354621570276421269947442767340974779714161469592396077647787872023649069791288426615899387396870634345412979234006966857946733551782890147204476295633373300261220486708981357444201004683582839146510959580499742079340549067286861769399638960857333203699694175841225483980324779446016263261784581896909262490263654020472266880636602847354880829925146497833606222410067833138172468145932313493447914202144721399070279508979321019498952186552243737786377740682379274735755480422895010714506664972354324916784340011033830284304228192955001708651372684164229881739292246161741083744250072543, 19143003330043354644770465316696247058498655824814938683228564470576333188381191128757255752517360923914756503164385215951963015740069648475773008128000937855810413371838405222344905602183638090567827144917018234505464179979004262786177249699092563973911834672064299578787666888737649643205148096397977045576301134397944576089504019955317387601723250979917807333468312995367453845899174577620058998885774789757944837611757678326743318636715393986935488817184020324461063045000746040392834268962023907393131286129212068540015305577457438477159922268532115414128985230069896393135170385473865897541683970266620090843841)\n",
      "Original message: 3amel ah ya 3aemna\n",
      "The encoded message is 6159670680009652056960942411619\n",
      "Encrypted message: 336435996211603389665847768319722494550767955231776984972430315522120773669577211424648914330523750011120384695767150763248181816899777952853309321562995457524419251080929376475478973697406191780923648727311590448939\n",
      "Decrypted message: 6159670680009652056960942411619\n",
      "decodeing groups:  [6159670, 68000965, 20569609, 42411619]\n",
      "The decoded message is '3amel ah ya 3aemna'\n"
     ]
    }
   ],
   "source": [
    "p , q = generate_two_distinct_primes()\n",
    "public_key, private_key = generate_keypair(p, q)\n",
    "print(public_key, private_key)\n",
    "\n",
    "msg = \"3amel ah ya 3aemna\"\n",
    "print(\"Original message:\", msg)\n",
    "encoded = encode_message(msg)\n",
    "\n",
    "print(f\"The encoded message is {encoded}\")\n",
    "\n",
    "encrypted_message = encrypt(public_key, encoded)\n",
    "print(\"Encrypted message:\", encrypted_message)\n",
    "\n",
    "decrypted_message = decrypt(private_key, encrypted_message)\n",
    "print(\"Decrypted message:\", decrypted_message)\n",
    "decoded = decode_message(decrypted_message)\n",
    "print(f\"The decoded message is '{decoded}'\")"
   ]
  },
  {
   "cell_type": "code",
   "execution_count": null,
   "metadata": {},
   "outputs": [],
   "source": []
  }
 ],
 "metadata": {
  "kernelspec": {
   "display_name": "Python 3",
   "language": "python",
   "name": "python3"
  },
  "language_info": {
   "codemirror_mode": {
    "name": "ipython",
    "version": 3
   },
   "file_extension": ".py",
   "mimetype": "text/x-python",
   "name": "python",
   "nbconvert_exporter": "python",
   "pygments_lexer": "ipython3",
   "version": "3.10.11"
  },
  "orig_nbformat": 4
 },
 "nbformat": 4,
 "nbformat_minor": 2
}
